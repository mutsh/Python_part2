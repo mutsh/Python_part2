{
  "nbformat": 4,
  "nbformat_minor": 0,
  "metadata": {
    "colab": {
      "provenance": [],
      "toc_visible": true
    },
    "kernelspec": {
      "name": "python3",
      "display_name": "Python 3"
    },
    "language_info": {
      "name": "python"
    }
  },
  "cells": [
    {
      "cell_type": "markdown",
      "source": [
        "<img src=\"https://github.com/Center-for-Health-Data-Science/PythonTsunami/blob/spring2022/figures/HeaDS_logo_large_withTitle.png?raw=1\" width=\"300\">\n",
        "\n",
        "<img src=\"https://github.com/Center-for-Health-Data-Science/PythonTsunami/blob/spring2022/figures/tsunami_logo.PNG?raw=1\" width=\"600\">"
      ],
      "metadata": {
        "id": "B6Oty716wU0N"
      }
    },
    {
      "cell_type": "markdown",
      "source": [
        "# Testing and error handling\n",
        "\n",
        "*Writing code that works is easy. Writing code that always works is hard.*"
      ],
      "metadata": {
        "id": "PEMQhP9BwXyZ"
      }
    },
    {
      "cell_type": "markdown",
      "source": [
        "## Why do we test?\n",
        "\n",
        "You already spend a lot of effort writing your code and now we're also asking you to spend time testing it. Why?\n",
        "\n",
        "\n",
        "* find and correct problems early\n",
        "\n",
        "* identify mistaken assumptions\n",
        "\n",
        "* untidy data is everywhere and strange things will happen\n",
        "\n",
        "* in the long run save money and time because of the three above"
      ],
      "metadata": {
        "id": "J8wGmFDDxzKT"
      }
    },
    {
      "cell_type": "markdown",
      "source": [
        "## What to test\n",
        "\n",
        "Alright so we need to test but what do we test? Here is a non-exhaustive list of things to consider:\n",
        "\n",
        "* Is your input what you think it is? Are there missing or unexpected values, i.e. does anyone have a heart rate of 'Yes'?\n",
        "\n",
        "* What about edge cases?\n",
        "\n",
        "* How does the program/function react when it receives unexpected input?\n",
        "\n",
        "* Is your output correct? You can i.e. use a test set where you know or have checked by hand what the result should be  \n",
        "\n",
        "* Overall: Does your program do what you think it does?\n",
        "\n",
        "* What kind of situation could cause your program to malfunction and how can you check for that?"
      ],
      "metadata": {
        "id": "0Tq6XknuwZk9"
      }
    },
    {
      "cell_type": "markdown",
      "source": [
        "## Exercise 1 (5 mins)\n",
        "\n",
        "Let's have an exercise here. Test the following code:\n",
        "\n",
        "1. Does it give the correct result?\n",
        "2. What happens if you put an integer?\n",
        "3. What happens if you put a float?\n",
        "4. What happens if you a negative number?\n",
        "5. What happens if you give a string?\n",
        "6. What happens if you give a list of integers?\n",
        "7. What happens if you give no input?"
      ],
      "metadata": {
        "id": "w4oNpE_ODRwA"
      }
    },
    {
      "cell_type": "code",
      "source": [
        "import math\n",
        "def square_root(input_number):\n",
        "    try:\n",
        "      result = math.sqrt(input_number)\n",
        "      return result\n",
        "    except:\n",
        "      print(\"not a number\")\n",
        "square_root(\"Hi\")"
      ],
      "metadata": {
        "id": "Qh-ZpButDLNf",
        "outputId": "8336134a-d617-4572-9595-5e59d75722ec",
        "colab": {
          "base_uri": "https://localhost:8080/"
        }
      },
      "execution_count": 14,
      "outputs": [
        {
          "output_type": "stream",
          "name": "stdout",
          "text": [
            "not a number\n"
          ]
        }
      ]
    },
    {
      "cell_type": "code",
      "execution_count": null,
      "metadata": {
        "id": "Lz35uMRswRFP"
      },
      "outputs": [],
      "source": [
        "#test the function"
      ]
    },
    {
      "cell_type": "markdown",
      "source": [
        "## Error handling\n",
        "\n",
        "Now that we have seen how to test code, what should we do when i.e. the wrong type of data is provided or the user asks for something unsensible?\n",
        "\n",
        "This is where error handling comes into play. Errors will always happen. Error handling is the practice of **anticipating** and **handling** them.  "
      ],
      "metadata": {
        "id": "vUFrwmva9dXJ"
      }
    },
    {
      "cell_type": "markdown",
      "source": [
        "## `try ... except` - The way of caution\n",
        "\n",
        "The typical way to handle errors in python is the `try ... except` block.  \n",
        "\n",
        "We will use it to fix some of the problems with our square function:"
      ],
      "metadata": {
        "id": "wdqDtzVV-qrP"
      }
    },
    {
      "cell_type": "code",
      "source": [
        "def square_root(input_number):\n",
        "    try:\n",
        "        result = math.sqrt(input_number)\n",
        "        return result\n",
        "    except:\n",
        "        print('This is not a number.')"
      ],
      "metadata": {
        "id": "nNNeVGwxBSyo"
      },
      "execution_count": 8,
      "outputs": []
    },
    {
      "cell_type": "code",
      "source": [
        "square_root('Hi')"
      ],
      "metadata": {
        "id": "13D98pcJKi6_",
        "outputId": "82a22e3d-e792-4a24-ce16-45b02635be50",
        "colab": {
          "base_uri": "https://localhost:8080/"
        }
      },
      "execution_count": 9,
      "outputs": [
        {
          "output_type": "stream",
          "name": "stdout",
          "text": [
            "This is not a number.\n"
          ]
        }
      ]
    },
    {
      "cell_type": "code",
      "source": [
        "square_root([1,2,3])"
      ],
      "metadata": {
        "id": "Ra-y2z4b9XUv",
        "outputId": "363dabbb-035a-44b7-d571-7db6469873fa",
        "colab": {
          "base_uri": "https://localhost:8080/"
        }
      },
      "execution_count": 10,
      "outputs": [
        {
          "output_type": "stream",
          "name": "stdout",
          "text": [
            "This is not a number.\n"
          ]
        }
      ]
    },
    {
      "cell_type": "code",
      "source": [
        "square_root(5)"
      ],
      "metadata": {
        "id": "U3xYdNZV9dbQ",
        "outputId": "513f8023-6af4-462a-a3c8-a66ab9cb3ae2",
        "colab": {
          "base_uri": "https://localhost:8080/"
        }
      },
      "execution_count": 11,
      "outputs": [
        {
          "output_type": "execute_result",
          "data": {
            "text/plain": [
              "2.23606797749979"
            ]
          },
          "metadata": {},
          "execution_count": 11
        }
      ]
    },
    {
      "cell_type": "markdown",
      "source": [
        "Excellent!\n",
        "\n",
        "In a nutshell, `try ... except` attempts to do what was asked in the `try` block and if it cannot, does what is specified in the `except` block.\n",
        "\n",
        "There is also an extension with the keyword `finally` which starts a code block that will always be executed, whether there was an error or not."
      ],
      "metadata": {
        "id": "8gnl3r-zKxxf"
      }
    },
    {
      "cell_type": "code",
      "source": [
        "def square_this(input_number):\n",
        "    try:\n",
        "        result = input_number**2\n",
        "        return result\n",
        "    except:\n",
        "        print('This is not a number.')\n",
        "    finally:\n",
        "        print('Have a good day.')"
      ],
      "metadata": {
        "id": "k1R_XOtH_raN"
      },
      "execution_count": 15,
      "outputs": []
    },
    {
      "cell_type": "code",
      "source": [
        "square_this(5)"
      ],
      "metadata": {
        "colab": {
          "base_uri": "https://localhost:8080/"
        },
        "id": "k2vKI2mp_4C-",
        "outputId": "86c850d8-737b-4933-cb29-960119f71fe9"
      },
      "execution_count": 16,
      "outputs": [
        {
          "output_type": "stream",
          "name": "stdout",
          "text": [
            "Have a good day.\n"
          ]
        },
        {
          "output_type": "execute_result",
          "data": {
            "text/plain": [
              "25"
            ]
          },
          "metadata": {},
          "execution_count": 16
        }
      ]
    },
    {
      "cell_type": "code",
      "source": [
        "square_this('Hi')"
      ],
      "metadata": {
        "colab": {
          "base_uri": "https://localhost:8080/"
        },
        "id": "fIpBf1Db_x2x",
        "outputId": "d65913e8-623b-4f15-a941-2d8c030c1e47"
      },
      "execution_count": 17,
      "outputs": [
        {
          "output_type": "stream",
          "name": "stdout",
          "text": [
            "This is not a number.\n",
            "Have a good day.\n"
          ]
        }
      ]
    },
    {
      "cell_type": "markdown",
      "source": [
        "## An aside\n",
        "\n",
        "Okay, but then what about the case where we give no input or two inputs? These are not caught by `try ... except`.\n",
        "\n",
        "Well, they are not really the same type of error. In that case the error message is **quite clear** that there are too many or too few arguments passed and the user should be able to understand how to correct this. Also, these errors are related to the usage of the function, not its inner workings.\n",
        "\n",
        "The goal of error handling is to catch what is reasonable and otherwise be clear on what the problem is."
      ],
      "metadata": {
        "id": "jrMc31tz68yN"
      }
    },
    {
      "cell_type": "markdown",
      "source": [
        "## Exercise 2 (10 mins)\n",
        "\n",
        "A group of friends goes bowling and records their points for each game. After five games they want to know who has the most points in total.\n",
        "\n",
        "Test the following code. What happens if you use a player that is not in the dictionary?\n",
        "\n",
        "Then use `try ... except` to handle the error."
      ],
      "metadata": {
        "id": "3waAUynSF51f"
      }
    },
    {
      "cell_type": "code",
      "source": [
        "def get_total_points(my_dict, player):\n",
        "    try:\n",
        "      player_points = my_dict[player]\n",
        "      return sum(player_points)\n",
        "    except KeyError:\n",
        "      print(player, 'it failed')\n",
        "    except TypeError as e:\n",
        "      print(e)\n",
        "      print('it failed', player)\n",
        "\n"
      ],
      "metadata": {
        "id": "6MOy6PP_NeU0"
      },
      "execution_count": 27,
      "outputs": []
    },
    {
      "cell_type": "code",
      "source": [
        "points_dict = {'Anne': [188, 156, 186, 182, 139],\n",
        "               'Max': [160, 143, 124, 188, 154],\n",
        "               'Jane': [182, 120, 156, 165, 113],\n",
        "               'Kate': [180, 107, 162, 191, 111],\n",
        "               'Christian': [196, 140, 195, 107, 136],\n",
        "               'Klaus': [100, 121, 177, 164, 118]}"
      ],
      "metadata": {
        "id": "3ctxK3HH2Bev"
      },
      "execution_count": 28,
      "outputs": []
    },
    {
      "cell_type": "code",
      "source": [
        "get_total_points (points_dict, 'Anne')\n"
      ],
      "metadata": {
        "id": "l3gHMrjZ-CPL",
        "outputId": "b6e5c27b-e546-497d-b64e-ee71df744dc5",
        "colab": {
          "base_uri": "https://localhost:8080/"
        }
      },
      "execution_count": 26,
      "outputs": [
        {
          "output_type": "execute_result",
          "data": {
            "text/plain": [
              "851"
            ]
          },
          "metadata": {},
          "execution_count": 26
        }
      ]
    },
    {
      "cell_type": "code",
      "source": [
        "#function with try except"
      ],
      "metadata": {
        "id": "b1w100RA3ddA"
      },
      "execution_count": null,
      "outputs": []
    },
    {
      "cell_type": "markdown",
      "source": [
        "Discuss in your group:\n",
        "\n",
        "What else could happen that would make the function crash? How can you catch it, or should you?"
      ],
      "metadata": {
        "id": "c-9GFPT04Gxf"
      }
    },
    {
      "cell_type": "markdown",
      "source": [
        "## Automated testing\n",
        "\n",
        "What we've gone through so far is manual testing.\n",
        "\n",
        "If you need to test the same piece of code many times\n",
        "automated testing can be a better choice. You can read about it for example here:\n",
        "\n",
        "https://realpython.com/python-testing/\n",
        "\n"
      ],
      "metadata": {
        "id": "wHh_N9tTVKr_"
      }
    },
    {
      "cell_type": "code",
      "source": [],
      "metadata": {
        "id": "7E8RlyeY5wTd"
      },
      "execution_count": null,
      "outputs": []
    }
  ]
}